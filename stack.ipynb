{
 "cells": [
  {
   "cell_type": "code",
   "execution_count": null,
   "metadata": {},
   "outputs": [],
   "source": [
    "#a stack is a data structure which is widely used for storing data, where the order of this data is important.\n",
    "#a stack follows the LIFO/FILO concept\n",
    "#basic operations of a stack are : \n",
    "#push, to add a new item on the top of the stack\n",
    "#pop, to remove an item."
   ]
  },
  {
   "cell_type": "code",
   "execution_count": 1,
   "metadata": {},
   "outputs": [],
   "source": [
    "#first of all we have to create the stack\n",
    "def create_stack():\n",
    "    stack=[]\n",
    "    return stack"
   ]
  },
  {
   "cell_type": "code",
   "execution_count": 2,
   "metadata": {},
   "outputs": [],
   "source": [
    "#next, create a function which checks if the stack is empty o not\n",
    "def isEmpty(stack):\n",
    "    if len(stack) != 0:\n",
    "        return False\n",
    "    return True"
   ]
  },
  {
   "cell_type": "code",
   "execution_count": 4,
   "metadata": {},
   "outputs": [],
   "source": [
    "#now here is a function to push an item on the end of the stack\n",
    "def push(stack, item):\n",
    "    stack.append(item)\n",
    "    print(\"Item pushed \", item)"
   ]
  },
  {
   "cell_type": "code",
   "execution_count": 9,
   "metadata": {},
   "outputs": [],
   "source": [
    "#create a stack\n",
    "s = create_stack()"
   ]
  },
  {
   "cell_type": "code",
   "execution_count": 11,
   "metadata": {},
   "outputs": [
    {
     "data": {
      "text/plain": [
       "True"
      ]
     },
     "execution_count": 11,
     "metadata": {},
     "output_type": "execute_result"
    }
   ],
   "source": [
    "#check if the stack is empty\n",
    "isEmpty(s)"
   ]
  },
  {
   "cell_type": "code",
   "execution_count": 34,
   "metadata": {},
   "outputs": [],
   "source": [
    "#create a function that can remove an item from the stack\n",
    "def pop(stack):\n",
    "    if(isEmpty(stack)):\n",
    "        return \"The stack is empty\"\n",
    "    return stack.pop()"
   ]
  },
  {
   "cell_type": "code",
   "execution_count": 42,
   "metadata": {},
   "outputs": [
    {
     "name": "stdout",
     "output_type": "stream",
     "text": [
      "Item pushed  78\n",
      "Item pushed  788\n",
      "Item pushed  hello\n",
      "Item pushed  True\n",
      "Item pushed  world\n"
     ]
    }
   ],
   "source": [
    "push(s, 78)\n",
    "push(s, 788)\n",
    "push(s, \"hello\")\n",
    "push(s, True)\n",
    "push(s, \"world\")"
   ]
  },
  {
   "cell_type": "code",
   "execution_count": 43,
   "metadata": {},
   "outputs": [
    {
     "name": "stdout",
     "output_type": "stream",
     "text": [
      "Item pushed  True\n"
     ]
    }
   ],
   "source": [
    "push(s, True)"
   ]
  },
  {
   "cell_type": "code",
   "execution_count": 44,
   "metadata": {},
   "outputs": [
    {
     "data": {
      "text/plain": [
       "[78, 788, 'hello', 78, 788, 'hello', True, 'world', True]"
      ]
     },
     "execution_count": 44,
     "metadata": {},
     "output_type": "execute_result"
    }
   ],
   "source": [
    "#print the stack\n",
    "s"
   ]
  },
  {
   "cell_type": "code",
   "execution_count": 45,
   "metadata": {},
   "outputs": [
    {
     "name": "stdout",
     "output_type": "stream",
     "text": [
      "Item removed :  True\n"
     ]
    }
   ],
   "source": [
    "print(\"Item removed : \", pop(s))"
   ]
  },
  {
   "cell_type": "code",
   "execution_count": 46,
   "metadata": {},
   "outputs": [
    {
     "name": "stdout",
     "output_type": "stream",
     "text": [
      "Item removed :  world\n"
     ]
    }
   ],
   "source": [
    "print(\"Item removed : \", pop(s))"
   ]
  },
  {
   "cell_type": "code",
   "execution_count": 49,
   "metadata": {},
   "outputs": [
    {
     "data": {
      "text/plain": [
       "[78, 788, 'hello', 78, 788, 'hello', True]"
      ]
     },
     "execution_count": 49,
     "metadata": {},
     "output_type": "execute_result"
    }
   ],
   "source": [
    "#print the stack\n",
    "s"
   ]
  }
 ],
 "metadata": {
  "kernelspec": {
   "display_name": "Python 3",
   "language": "python",
   "name": "python3"
  },
  "language_info": {
   "codemirror_mode": {
    "name": "ipython",
    "version": 3
   },
   "file_extension": ".py",
   "mimetype": "text/x-python",
   "name": "python",
   "nbconvert_exporter": "python",
   "pygments_lexer": "ipython3",
   "version": "3.7.6"
  }
 },
 "nbformat": 4,
 "nbformat_minor": 4
}
