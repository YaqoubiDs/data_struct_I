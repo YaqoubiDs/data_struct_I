{
 "cells": [
  {
   "cell_type": "markdown",
   "metadata": {},
   "source": [
    "# Array"
   ]
  },
  {
   "cell_type": "code",
   "execution_count": 1,
   "metadata": {},
   "outputs": [
    {
     "name": "stdout",
     "output_type": "stream",
     "text": [
      "The marks of the student are  :  90.0 91.0 92.0 45.0 87.0 89.5 25.0 20.5 "
     ]
    }
   ],
   "source": [
    "import array as arr\n",
    "\n",
    "# creating a float type array\n",
    "marks = arr.array('d', [90,91,92,45,87,89.5,25,20.5])\n",
    "\n",
    "# printing the array\n",
    "print (\"The marks of the student are  : \", end =\" \")\n",
    "\n",
    "#using for loop to access the array indexes\n",
    "for i in range (0, len(marks)):\n",
    "    #accessing the data stored at every index by using iterator i\n",
    "    print (marks[i], end =\" \")"
   ]
  },
  {
   "cell_type": "code",
   "execution_count": 3,
   "metadata": {},
   "outputs": [
    {
     "name": "stdout",
     "output_type": "stream",
     "text": [
      "The data inside the array is  :  1 2 3 4 5 6 7 8 "
     ]
    }
   ],
   "source": [
    "# creating an array of integer type \n",
    "num = arr.array('i', [1,2,3,4,5,6,7,8,9])\n",
    "# printing the array \n",
    "print (\"The data inside the array is  : \", end =\" \") \n",
    "#using for loop to access the array indexes\n",
    "for i in range (0, 8): \n",
    "    #accessing the data stored at every index by using iterator i\n",
    "    print (num[i], end =\" \")"
   ]
  },
  {
   "cell_type": "markdown",
   "metadata": {},
   "source": [
    "# List"
   ]
  },
  {
   "cell_type": "code",
   "execution_count": 4,
   "metadata": {},
   "outputs": [
    {
     "name": "stdout",
     "output_type": "stream",
     "text": [
      "['John', 'Mark', 'Taylor', 'Smith']\n",
      "Taylor\n"
     ]
    }
   ],
   "source": [
    "#creating a list\n",
    "students=[\"John\",\"Mark\",\"Taylor\",\"Smith\"]\n",
    "#prinitng the list\n",
    "print(students)\n",
    "#accessing the specific index of list\n",
    "print(students[2])"
   ]
  },
  {
   "cell_type": "code",
   "execution_count": 6,
   "metadata": {},
   "outputs": [
    {
     "name": "stdout",
     "output_type": "stream",
     "text": [
      "List before inserting\n",
      "[1, 'John', 2.5, 'Mark', 3, 'Taylor', 4, 'Smith']\n",
      "List after inserting\n",
      "[1, 9, 'John', 2.5, 'Mark', 3, 'Taylor', 4, 'Smith', 8]\n"
     ]
    }
   ],
   "source": [
    "#creating a list\n",
    "students=[1,\"John\",2.5,\"Mark\",3,\"Taylor\",4,\"Smith\"]\n",
    "\n",
    "print(\"List before inserting\")\n",
    "print(students)\n",
    "\n",
    "#appending the list\n",
    "students.append(8)\n",
    "\n",
    "#inserting the number 9 at position 1\n",
    "students.insert(1,9)\n",
    "\n",
    "#prinitng the list\n",
    "print(\"List after inserting\")\n",
    "print(students)"
   ]
  },
  {
   "cell_type": "markdown",
   "metadata": {},
   "source": [
    "# Hash Table"
   ]
  },
  {
   "cell_type": "code",
   "execution_count": 9,
   "metadata": {},
   "outputs": [
    {
     "name": "stdout",
     "output_type": "stream",
     "text": [
      "Hafsa\n",
      "24\n",
      "Bac+5\n",
      "Data\n"
     ]
    }
   ],
   "source": [
    "#declaring a hash table or data dictionary for student\n",
    "student_dict={'name':'Hafsa','age':24,'level':'Bac+5','field':'Data'}\n",
    "\n",
    "#the data is accessed by using the key \n",
    "#printing the name of student\n",
    "print(student_dict['name'])\n",
    "\n",
    "#printing the age of student\n",
    "print(student_dict['age'])\n",
    "\n",
    "#printing the class of student\n",
    "print(student_dict['level'])\n",
    "\n",
    "#printing the smeseter of student\n",
    "print(student_dict['field'])"
   ]
  },
  {
   "cell_type": "code",
   "execution_count": 10,
   "metadata": {},
   "outputs": [
    {
     "name": "stdout",
     "output_type": "stream",
     "text": [
      "yaqoubi.hafsa@outlook.com\n"
     ]
    }
   ],
   "source": [
    "#updating the dictionary\n",
    "#adding new key value pair for email\n",
    "student_dict['email'] = 'yaqoubi.hafsa@outlook.com'\n",
    "\n",
    "#printing the student email\n",
    "print(student_dict['email'])"
   ]
  },
  {
   "cell_type": "code",
   "execution_count": null,
   "metadata": {},
   "outputs": [],
   "source": [
    "#remove a key\n",
    "del student_dict['level']\n",
    "#print the dictionary\n",
    "print(student_dict)"
   ]
  },
  {
   "cell_type": "markdown",
   "metadata": {},
   "source": [
    "# Queue"
   ]
  },
  {
   "cell_type": "code",
   "execution_count": 12,
   "metadata": {},
   "outputs": [
    {
     "name": "stdout",
     "output_type": "stream",
     "text": [
      "[1, 2, 3, 4]\n",
      "[1]\n"
     ]
    }
   ],
   "source": [
    "#declaring the queue\n",
    "que = []\n",
    "\n",
    "#adding the data in queue.\n",
    "que.append(1)\n",
    "que.append(2)\n",
    "que.append(3)\n",
    "que.append(4)\n",
    "\n",
    "#printing the elements of\n",
    "print(que)\n",
    "\n",
    "#removing the elements from que\n",
    "que.pop()\n",
    "que.pop()\n",
    "que.pop()\n",
    "\n",
    "#printing the queue\n",
    "print(que)"
   ]
  },
  {
   "cell_type": "markdown",
   "metadata": {},
   "source": [
    "# LinkedList"
   ]
  },
  {
   "cell_type": "code",
   "execution_count": 13,
   "metadata": {},
   "outputs": [],
   "source": [
    "#create a node class\n",
    "class Node: \n",
    "  \n",
    "    # initializing the node object with data and the next node \n",
    "    def __init__(self, data): \n",
    "        self.data = data  \n",
    "        self.next = None   "
   ]
  },
  {
   "cell_type": "code",
   "execution_count": 17,
   "metadata": {},
   "outputs": [],
   "source": [
    "n = Node(data=\"wtrtrw\")"
   ]
  },
  {
   "cell_type": "code",
   "execution_count": 18,
   "metadata": {},
   "outputs": [
    {
     "data": {
      "text/plain": [
       "str"
      ]
     },
     "execution_count": 18,
     "metadata": {},
     "output_type": "execute_result"
    }
   ],
   "source": [
    "type(n.data)"
   ]
  },
  {
   "cell_type": "code",
   "execution_count": 19,
   "metadata": {},
   "outputs": [],
   "source": [
    "# creating the linked list class\n",
    "class Linked_List: \n",
    "  \n",
    "    # Initilizing the fisrt node (head) \n",
    "    def __init__(self): \n",
    "        self.head_node = None\n",
    "  \n",
    "    #printing the linked list\n",
    "    def print_Linked_List(self): \n",
    "        temp_node = self.head \n",
    "        while (temp_node): \n",
    "            print (temp_node.data) \n",
    "            temp_node = temp_node.next\n",
    "  "
   ]
  },
  {
   "cell_type": "code",
   "execution_count": 51,
   "metadata": {},
   "outputs": [],
   "source": [
    "# Start with the empty list \n",
    "linkedlist = Linked_List() \n",
    "\n",
    "#declaring the first node as a head node\n",
    "linkedlist.head = Node(1) \n",
    "\n",
    "#creating another node\n",
    "second_node = Node(2) "
   ]
  },
  {
   "cell_type": "code",
   "execution_count": 52,
   "metadata": {},
   "outputs": [
    {
     "name": "stdout",
     "output_type": "stream",
     "text": [
      "1\n"
     ]
    }
   ],
   "source": [
    "linkedlist.print_Linked_List()"
   ]
  },
  {
   "cell_type": "code",
   "execution_count": 53,
   "metadata": {},
   "outputs": [
    {
     "name": "stdout",
     "output_type": "stream",
     "text": [
      "1\n",
      "2\n"
     ]
    }
   ],
   "source": [
    "#creating the reference of second node with the head\n",
    "linkedlist.head.next=second_node\n",
    "linkedlist.print_Linked_List()"
   ]
  },
  {
   "cell_type": "code",
   "execution_count": 54,
   "metadata": {},
   "outputs": [
    {
     "name": "stdout",
     "output_type": "stream",
     "text": [
      "1\n",
      "2\n",
      "5\n"
     ]
    }
   ],
   "source": [
    "#creating the reference of third node with the second element\n",
    "third_node = Node(5)\n",
    "second_node.next=third_node\n",
    "linkedlist.print_Linked_List()"
   ]
  },
  {
   "cell_type": "code",
   "execution_count": 55,
   "metadata": {},
   "outputs": [
    {
     "name": "stdout",
     "output_type": "stream",
     "text": [
      "1\n",
      "2\n",
      "5\n",
      "10\n"
     ]
    }
   ],
   "source": [
    "#creating the reference of fourth node with the third element\n",
    "fourth_node = Node(10)\n",
    "third_node.next=fourth_node\n",
    "linkedlist.print_Linked_List()"
   ]
  },
  {
   "cell_type": "code",
   "execution_count": 56,
   "metadata": {},
   "outputs": [],
   "source": [
    "#delete second element\n",
    "second_node.next=None\n",
    "#set the next node for head to third_node\n",
    "linkedlist.head.next=third_node"
   ]
  },
  {
   "cell_type": "code",
   "execution_count": 57,
   "metadata": {},
   "outputs": [
    {
     "name": "stdout",
     "output_type": "stream",
     "text": [
      "1\n",
      "5\n",
      "10\n"
     ]
    }
   ],
   "source": [
    "linkedlist.print_Linked_List()"
   ]
  }
 ],
 "metadata": {
  "kernelspec": {
   "display_name": "Python 3",
   "language": "python",
   "name": "python3"
  },
  "language_info": {
   "codemirror_mode": {
    "name": "ipython",
    "version": 3
   },
   "file_extension": ".py",
   "mimetype": "text/x-python",
   "name": "python",
   "nbconvert_exporter": "python",
   "pygments_lexer": "ipython3",
   "version": "3.7.6"
  }
 },
 "nbformat": 4,
 "nbformat_minor": 4
}
